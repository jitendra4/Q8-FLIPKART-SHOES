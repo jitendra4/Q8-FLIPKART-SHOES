{
 "cells": [
  {
   "cell_type": "code",
   "execution_count": 1,
   "metadata": {},
   "outputs": [
    {
     "name": "stdout",
     "output_type": "stream",
     "text": [
      "Requirement already satisfied: selenium in d:\\new folder\\lib\\site-packages (3.141.0)\n",
      "Requirement already satisfied: urllib3 in d:\\new folder\\lib\\site-packages (from selenium) (1.25.11)\n"
     ]
    }
   ],
   "source": [
    "!pip install selenium"
   ]
  },
  {
   "cell_type": "code",
   "execution_count": 2,
   "metadata": {},
   "outputs": [],
   "source": [
    "#LET REQRURIED LALARARIES\n",
    "import selenium\n",
    "import pandas as pd\n",
    "from selenium import webdriver"
   ]
  },
  {
   "cell_type": "code",
   "execution_count": 3,
   "metadata": {},
   "outputs": [],
   "source": [
    "# go to link= https://chromedriver.chromium.org/downloads"
   ]
  },
  {
   "cell_type": "code",
   "execution_count": 7,
   "metadata": {},
   "outputs": [],
   "source": [
    "# lets frist connect to the web drivers\n",
    "driver= webdriver.Chrome(r\"C:\\Users\\G\\Downloads\\chromedriver_win32\\chromedriver.exe\")"
   ]
  },
  {
   "cell_type": "code",
   "execution_count": 8,
   "metadata": {},
   "outputs": [],
   "source": [
    "# spectfying the URL of the webpage to be scraped\n",
    "url= (\"https://www.flipkart.com/search?q=sneakers&sid=osp%2Ccil%2Ce1f&as=on&as-show=on&otracker=AS_QueryStore_OrganicAutoSuggest_1_4_na_na_na&otracker1=AS_QueryStore_OrganicAutoSuggest_1_4_na_na_na&as-pos=1&as-type=RECENT&suggestionId=sneakers%7CMen%27s+Casual+Shoes&requestId=f4014195-8911-4e95-a704-c752375e975b&as-backfill=on\")"
   ]
  },
  {
   "cell_type": "code",
   "execution_count": 9,
   "metadata": {},
   "outputs": [],
   "source": [
    "# let open the webpage through our web drivers\n",
    "driver.get(url)"
   ]
  },
  {
   "cell_type": "code",
   "execution_count": 10,
   "metadata": {},
   "outputs": [],
   "source": [
    "brand_name=[]\n",
    "production_description=[]\n",
    "price_brand=[]\n",
    "discount_brand=[]"
   ]
  },
  {
   "cell_type": "code",
   "execution_count": 11,
   "metadata": {},
   "outputs": [
    {
     "data": {
      "text/plain": [
       "[<selenium.webdriver.remote.webelement.WebElement (session=\"52e6ae1a8718ec88e240471b57c4cde0\", element=\"e2e46ec7-f551-4f20-a01b-b5cf88886091\")>,\n",
       " <selenium.webdriver.remote.webelement.WebElement (session=\"52e6ae1a8718ec88e240471b57c4cde0\", element=\"902b240f-ad74-47e9-9031-8953aece3165\")>,\n",
       " <selenium.webdriver.remote.webelement.WebElement (session=\"52e6ae1a8718ec88e240471b57c4cde0\", element=\"5cac9b91-f72c-46bd-9b5f-8750308f62a5\")>,\n",
       " <selenium.webdriver.remote.webelement.WebElement (session=\"52e6ae1a8718ec88e240471b57c4cde0\", element=\"dfd0935c-3cbc-466c-b673-5cd783aa5b9f\")>]"
      ]
     },
     "execution_count": 11,
     "metadata": {},
     "output_type": "execute_result"
    }
   ],
   "source": [
    "# let extract all the tags having the company name\n",
    "brand_tag= driver.find_elements_by_xpath(\"//div[@class='_2WkVRV']\")\n",
    "brand_tag[0:4]"
   ]
  },
  {
   "cell_type": "code",
   "execution_count": 12,
   "metadata": {},
   "outputs": [
    {
     "data": {
      "text/plain": [
       "['Extoes', 'Kizaar', 'Chevit', 'World Wear Footwear', 'Robbie jones', 'Chevit']"
      ]
     },
     "execution_count": 12,
     "metadata": {},
     "output_type": "execute_result"
    }
   ],
   "source": [
    "#let extract all tags having brand -name\n",
    "for i in brand_tag:\n",
    "    brand=i.text\n",
    "    brand_name.append(brand)\n",
    "brand_name[0:6]"
   ]
  },
  {
   "cell_type": "code",
   "execution_count": 13,
   "metadata": {},
   "outputs": [
    {
     "data": {
      "text/plain": [
       "[<selenium.webdriver.remote.webelement.WebElement (session=\"52e6ae1a8718ec88e240471b57c4cde0\", element=\"6ba89f52-8611-4702-b848-9c91ec5ffb7c\")>,\n",
       " <selenium.webdriver.remote.webelement.WebElement (session=\"52e6ae1a8718ec88e240471b57c4cde0\", element=\"eb263c00-7310-44ec-891e-c89d4305d454\")>,\n",
       " <selenium.webdriver.remote.webelement.WebElement (session=\"52e6ae1a8718ec88e240471b57c4cde0\", element=\"0fd1744b-f3e1-4ef4-ac19-68aaa84584d0\")>,\n",
       " <selenium.webdriver.remote.webelement.WebElement (session=\"52e6ae1a8718ec88e240471b57c4cde0\", element=\"c36185e4-5e94-45db-8dbe-b87478abe0bb\")>]"
      ]
     },
     "execution_count": 13,
     "metadata": {},
     "output_type": "execute_result"
    }
   ],
   "source": [
    "# let extract all the tags having the production-description\n",
    "production_tag= driver.find_elements_by_xpath(\"//a[@class='IRpwTa']\")\n",
    "production_tag[0:4]"
   ]
  },
  {
   "cell_type": "code",
   "execution_count": 14,
   "metadata": {},
   "outputs": [
    {
     "data": {
      "text/plain": [
       "['Combo Pack of 3 Sneakers For Men',\n",
       " 'Fashionable Casual, Canvas,official or Partywear Sneake...',\n",
       " 'Combo Pack of 4 Casual Sneakers With Sneakers For Men',\n",
       " 'Combo Pack of 4 Latest Collection Stylish Casual Loafer...',\n",
       " '171 Smart Tan Lace-Ups Casuals for Men Sneakers For Men',\n",
       " 'Combo pack of 2 casual sneaker shoes for men Sneakers F...']"
      ]
     },
     "execution_count": 14,
     "metadata": {},
     "output_type": "execute_result"
    }
   ],
   "source": [
    "#let extract all tags having production_description\n",
    "for i in production_tag:\n",
    "    production=i.text\n",
    "    production_description.append(production)\n",
    "production_description[0:6]"
   ]
  },
  {
   "cell_type": "code",
   "execution_count": 15,
   "metadata": {},
   "outputs": [
    {
     "data": {
      "text/plain": [
       "[<selenium.webdriver.remote.webelement.WebElement (session=\"52e6ae1a8718ec88e240471b57c4cde0\", element=\"4d508555-024f-440a-87a7-84295940b953\")>,\n",
       " <selenium.webdriver.remote.webelement.WebElement (session=\"52e6ae1a8718ec88e240471b57c4cde0\", element=\"6ef80d62-c5b8-4ad0-8ea9-1402075fefc9\")>,\n",
       " <selenium.webdriver.remote.webelement.WebElement (session=\"52e6ae1a8718ec88e240471b57c4cde0\", element=\"465d5391-6e53-4571-aa2e-ddc2601da4ce\")>,\n",
       " <selenium.webdriver.remote.webelement.WebElement (session=\"52e6ae1a8718ec88e240471b57c4cde0\", element=\"58d82030-5bfc-4e70-99a3-b5e387587098\")>]"
      ]
     },
     "execution_count": 15,
     "metadata": {},
     "output_type": "execute_result"
    }
   ],
   "source": [
    "# let extract all the tags having the price-description\n",
    "price_tag= driver.find_elements_by_xpath(\"//div[@class='_30jeq3']\")\n",
    "price_tag[0:4]"
   ]
  },
  {
   "cell_type": "code",
   "execution_count": 16,
   "metadata": {},
   "outputs": [
    {
     "data": {
      "text/plain": [
       "['₹668', '₹449', '₹499', '₹499', '₹399', '₹236']"
      ]
     },
     "execution_count": 16,
     "metadata": {},
     "output_type": "execute_result"
    }
   ],
   "source": [
    "#let extract all tags having price_description\n",
    "for i in price_tag:\n",
    "    price=i.text\n",
    "    price_brand.append(price)\n",
    "price_brand[0:6]"
   ]
  },
  {
   "cell_type": "code",
   "execution_count": 17,
   "metadata": {},
   "outputs": [
    {
     "data": {
      "text/plain": [
       "[<selenium.webdriver.remote.webelement.WebElement (session=\"52e6ae1a8718ec88e240471b57c4cde0\", element=\"d69ca0e9-b019-4b77-9fe0-4732259bc82b\")>,\n",
       " <selenium.webdriver.remote.webelement.WebElement (session=\"52e6ae1a8718ec88e240471b57c4cde0\", element=\"d7b3d8c2-9341-435b-a3f1-3ffe97a1ecee\")>,\n",
       " <selenium.webdriver.remote.webelement.WebElement (session=\"52e6ae1a8718ec88e240471b57c4cde0\", element=\"93defc73-f609-44c6-bbf1-c6c32cfb27bd\")>,\n",
       " <selenium.webdriver.remote.webelement.WebElement (session=\"52e6ae1a8718ec88e240471b57c4cde0\", element=\"28325be0-9c2f-4799-b3c8-b5038a52423c\")>]"
      ]
     },
     "execution_count": 17,
     "metadata": {},
     "output_type": "execute_result"
    }
   ],
   "source": [
    "# let extract all the tags having the discount-description\n",
    "discount_tag= driver.find_elements_by_xpath(\"//div[@class='_3Ay6Sb']\")\n",
    "discount_tag[0:4]"
   ]
  },
  {
   "cell_type": "code",
   "execution_count": 18,
   "metadata": {},
   "outputs": [
    {
     "data": {
      "text/plain": [
       "['55% off', '55% off', '75% off', '75% off', '60% off', '52% off']"
      ]
     },
     "execution_count": 18,
     "metadata": {},
     "output_type": "execute_result"
    }
   ],
   "source": [
    "#let extract all tags having price_description\n",
    "for i in discount_tag:\n",
    "    discount=i.text\n",
    "    discount_brand.append(discount)\n",
    "discount_brand[0:6]"
   ]
  },
  {
   "cell_type": "code",
   "execution_count": 19,
   "metadata": {},
   "outputs": [
    {
     "name": "stdout",
     "output_type": "stream",
     "text": [
      "6 58 4 7\n"
     ]
    }
   ],
   "source": [
    "print(len(brand),\n",
    "      len(production),\n",
    "      len(price),\n",
    "      len(discount))"
   ]
  },
  {
   "cell_type": "code",
   "execution_count": 20,
   "metadata": {},
   "outputs": [
    {
     "data": {
      "text/html": [
       "<div>\n",
       "<style scoped>\n",
       "    .dataframe tbody tr th:only-of-type {\n",
       "        vertical-align: middle;\n",
       "    }\n",
       "\n",
       "    .dataframe tbody tr th {\n",
       "        vertical-align: top;\n",
       "    }\n",
       "\n",
       "    .dataframe thead th {\n",
       "        text-align: right;\n",
       "    }\n",
       "</style>\n",
       "<table border=\"1\" class=\"dataframe\">\n",
       "  <thead>\n",
       "    <tr style=\"text-align: right;\">\n",
       "      <th></th>\n",
       "      <th>brand</th>\n",
       "      <th>production</th>\n",
       "      <th>price</th>\n",
       "      <th>discount</th>\n",
       "    </tr>\n",
       "  </thead>\n",
       "  <tbody>\n",
       "    <tr>\n",
       "      <th>0</th>\n",
       "      <td>Extoes</td>\n",
       "      <td>Combo Pack of 3 Sneakers For Men</td>\n",
       "      <td>₹668</td>\n",
       "      <td>55% off</td>\n",
       "    </tr>\n",
       "    <tr>\n",
       "      <th>1</th>\n",
       "      <td>Kizaar</td>\n",
       "      <td>Fashionable Casual, Canvas,official or Partywe...</td>\n",
       "      <td>₹449</td>\n",
       "      <td>55% off</td>\n",
       "    </tr>\n",
       "    <tr>\n",
       "      <th>2</th>\n",
       "      <td>Chevit</td>\n",
       "      <td>Combo Pack of 4 Casual Sneakers With Sneakers ...</td>\n",
       "      <td>₹499</td>\n",
       "      <td>75% off</td>\n",
       "    </tr>\n",
       "    <tr>\n",
       "      <th>3</th>\n",
       "      <td>World Wear Footwear</td>\n",
       "      <td>Combo Pack of 4 Latest Collection Stylish Casu...</td>\n",
       "      <td>₹499</td>\n",
       "      <td>75% off</td>\n",
       "    </tr>\n",
       "    <tr>\n",
       "      <th>4</th>\n",
       "      <td>Robbie jones</td>\n",
       "      <td>171 Smart Tan Lace-Ups Casuals for Men Sneaker...</td>\n",
       "      <td>₹399</td>\n",
       "      <td>60% off</td>\n",
       "    </tr>\n",
       "    <tr>\n",
       "      <th>5</th>\n",
       "      <td>Chevit</td>\n",
       "      <td>Combo pack of 2 casual sneaker shoes for men S...</td>\n",
       "      <td>₹236</td>\n",
       "      <td>52% off</td>\n",
       "    </tr>\n",
       "    <tr>\n",
       "      <th>6</th>\n",
       "      <td>Stefano Rads</td>\n",
       "      <td>Combo Pack Of 4 Canvas Sneakers For Men</td>\n",
       "      <td>₹274</td>\n",
       "      <td>60% off</td>\n",
       "    </tr>\n",
       "    <tr>\n",
       "      <th>7</th>\n",
       "      <td>Oricum</td>\n",
       "      <td>Casual shoes,Sneakers for men's,shoes for men'...</td>\n",
       "      <td>₹398</td>\n",
       "      <td>60% off</td>\n",
       "    </tr>\n",
       "    <tr>\n",
       "      <th>8</th>\n",
       "      <td>BRUTON</td>\n",
       "      <td>White Sneaker For Men's/Boy's Sneakers For Men</td>\n",
       "      <td>₹499</td>\n",
       "      <td>85% off</td>\n",
       "    </tr>\n",
       "    <tr>\n",
       "      <th>9</th>\n",
       "      <td>Restinfoot</td>\n",
       "      <td>Lightweight Combo Pack of 02 Trendy Sneakers C...</td>\n",
       "      <td>₹350</td>\n",
       "      <td>64% off</td>\n",
       "    </tr>\n",
       "  </tbody>\n",
       "</table>\n",
       "</div>"
      ],
      "text/plain": [
       "                 brand                                         production  \\\n",
       "0               Extoes                   Combo Pack of 3 Sneakers For Men   \n",
       "1               Kizaar  Fashionable Casual, Canvas,official or Partywe...   \n",
       "2               Chevit  Combo Pack of 4 Casual Sneakers With Sneakers ...   \n",
       "3  World Wear Footwear  Combo Pack of 4 Latest Collection Stylish Casu...   \n",
       "4         Robbie jones  171 Smart Tan Lace-Ups Casuals for Men Sneaker...   \n",
       "5               Chevit  Combo pack of 2 casual sneaker shoes for men S...   \n",
       "6         Stefano Rads            Combo Pack Of 4 Canvas Sneakers For Men   \n",
       "7               Oricum  Casual shoes,Sneakers for men's,shoes for men'...   \n",
       "8               BRUTON     White Sneaker For Men's/Boy's Sneakers For Men   \n",
       "9           Restinfoot  Lightweight Combo Pack of 02 Trendy Sneakers C...   \n",
       "\n",
       "  price discount  \n",
       "0  ₹668  55% off  \n",
       "1  ₹449  55% off  \n",
       "2  ₹499  75% off  \n",
       "3  ₹499  75% off  \n",
       "4  ₹399  60% off  \n",
       "5  ₹236  52% off  \n",
       "6  ₹274  60% off  \n",
       "7  ₹398  60% off  \n",
       "8  ₹499  85% off  \n",
       "9  ₹350  64% off  "
      ]
     },
     "execution_count": 20,
     "metadata": {},
     "output_type": "execute_result"
    }
   ],
   "source": [
    "sneakars=pd.DataFrame({})\n",
    "sneakars['brand']=brand_name[0:10]\n",
    "sneakars['production']=production_description[0:10]\n",
    "sneakars['price']=price_brand[0:10]\n",
    "sneakars['discount']=discount_brand[0:10]\n",
    "sneakars"
   ]
  },
  {
   "cell_type": "code",
   "execution_count": null,
   "metadata": {},
   "outputs": [],
   "source": []
  }
 ],
 "metadata": {
  "kernelspec": {
   "display_name": "Python 3",
   "language": "python",
   "name": "python3"
  },
  "language_info": {
   "codemirror_mode": {
    "name": "ipython",
    "version": 3
   },
   "file_extension": ".py",
   "mimetype": "text/x-python",
   "name": "python",
   "nbconvert_exporter": "python",
   "pygments_lexer": "ipython3",
   "version": "3.8.5"
  }
 },
 "nbformat": 4,
 "nbformat_minor": 4
}
